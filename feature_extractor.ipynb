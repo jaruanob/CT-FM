{
 "cells": [
  {
   "cell_type": "code",
   "execution_count": null,
   "id": "6b5b8992",
   "metadata": {},
   "outputs": [],
   "source": [
    "# Imports\n",
    "import torch\n",
    "from lighter_zoo import SegResEncoder\n",
    "from monai.transforms import (\n",
    "    Compose, LoadImage, EnsureType, Orientation,\n",
    "    ScaleIntensityRange, CropForeground\n",
    ")\n",
    "from monai.inferers import SlidingWindowInferer\n",
    "import nibabel as nib\n",
    "import numpy as np"
   ]
  },
  {
   "cell_type": "code",
   "execution_count": null,
   "id": "9c753756",
   "metadata": {},
   "outputs": [],
   "source": [
    "# # Load pre-trained model\n",
    "# model = SegResEncoder.from_pretrained(\n",
    "#     \"project-lighter/ct_fm_feature_extractor\"\n",
    "# )\n",
    "\n",
    "model = torch.load('checkpoints/ct_fm_feature_extractor.pth')\n",
    "model.eval()"
   ]
  },
  {
   "cell_type": "code",
   "execution_count": null,
   "id": "18aebdb8",
   "metadata": {},
   "outputs": [],
   "source": [
    "# Preprocessing pipeline\n",
    "preprocess = Compose([\n",
    "    LoadImage(ensure_channel_first=True),  # Load image and ensure channel dimension\n",
    "    EnsureType(),                         # Ensure correct data type\n",
    "    Orientation(axcodes=\"SPL\"),           # Standardize orientation\n",
    "    # Scale intensity to [0,1] range, clipping outliers\n",
    "    ScaleIntensityRange(\n",
    "        a_min=-1024,    # Min HU value\n",
    "        a_max=2048,     # Max HU value\n",
    "        b_min=0,        # Target min\n",
    "        b_max=1,        # Target max\n",
    "        clip=True       # Clip values outside range\n",
    "    ),\n",
    "    CropForeground()    # Remove background to reduce computation\n",
    "])"
   ]
  },
  {
   "cell_type": "code",
   "execution_count": null,
   "id": "1f431d7b",
   "metadata": {},
   "outputs": [],
   "source": [
    "# Input path\n",
    "input_path = \"/home/vlab/Documents/Collections/Dental/STS-Tooth/SD-Tooth/STS-3D-Tooth/Integrity/Labeled/Image/Integrity_L_004.nii.gz\"\n",
    "\n",
    "# Preprocess input\n",
    "input_tensor = preprocess(input_path)\n",
    "\n",
    "# Run inference\n",
    "with torch.no_grad():\n",
    "    output = model(input_tensor.unsqueeze(0))[-1]\n",
    "\n",
    "    # Average pooling compressed the feature vector across all patches. If this is not desired, remove this line and \n",
    "    # use the output tensor directly which will give you the feature maps in a low-dimensional space.\n",
    "    avg_output = torch.nn.functional.adaptive_avg_pool3d(output, 1).squeeze()\n",
    "\n",
    "print(\"✅ Feature extraction completed\")\n",
    "print(f\"Output shape: {avg_output.shape}\")\n"
   ]
  },
  {
   "cell_type": "code",
   "execution_count": 1,
   "id": "5c4a210f",
   "metadata": {},
   "outputs": [
    {
     "ename": "NameError",
     "evalue": "name 'nib' is not defined",
     "output_type": "error",
     "traceback": [
      "\u001b[0;31m---------------------------------------------------------------------------\u001b[0m",
      "\u001b[0;31mNameError\u001b[0m                                 Traceback (most recent call last)",
      "Cell \u001b[0;32mIn[1], line 1\u001b[0m\n\u001b[0;32m----> 1\u001b[0m nii \u001b[38;5;241m=\u001b[39m \u001b[43mnib\u001b[49m\u001b[38;5;241m.\u001b[39mload(input_path)\n\u001b[1;32m      2\u001b[0m data \u001b[38;5;241m=\u001b[39m nii\u001b[38;5;241m.\u001b[39mget_fdata()  \u001b[38;5;66;03m# raw voxel values\u001b[39;00m\n",
      "\u001b[0;31mNameError\u001b[0m: name 'nib' is not defined"
     ]
    }
   ],
   "source": [
    "nii = nib.load(input_path)\n",
    "data = nii.get_fdata()  # raw voxel values"
   ]
  },
  {
   "cell_type": "code",
   "execution_count": null,
   "id": "b7c2208b",
   "metadata": {},
   "outputs": [],
   "source": [
    "# Plot distribution of features\n",
    "import matplotlib.pyplot as plt\n",
    "_ = plt.hist(avg_output.cpu().numpy(), bins=100)"
   ]
  }
 ],
 "metadata": {
  "kernelspec": {
   "display_name": "CTFM",
   "language": "python",
   "name": "python3"
  },
  "language_info": {
   "codemirror_mode": {
    "name": "ipython",
    "version": 3
   },
   "file_extension": ".py",
   "mimetype": "text/x-python",
   "name": "python",
   "nbconvert_exporter": "python",
   "pygments_lexer": "ipython3",
   "version": "3.10.18"
  }
 },
 "nbformat": 4,
 "nbformat_minor": 5
}
