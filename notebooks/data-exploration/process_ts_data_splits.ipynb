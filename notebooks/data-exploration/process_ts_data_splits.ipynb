{
 "cells": [
  {
   "cell_type": "code",
   "execution_count": 17,
   "metadata": {},
   "outputs": [],
   "source": [
    "import pandas as pd\n",
    "from sklearn.model_selection import train_test_split\n",
    "import json\n",
    "import requests"
   ]
  },
  {
   "cell_type": "code",
   "execution_count": 18,
   "metadata": {},
   "outputs": [],
   "source": [
    "splits = {\n",
    "    \"vista\": \"https://raw.githubusercontent.com/Project-MONAI/VISTA/main/vista3d/data/jsons/TotalSegmentatorV2_5_folds.json\",\n",
    "    \"sat\": \"https://raw.githubusercontent.com/zhaoziheng/SAT-DS/main/data/split_json/TotalSegmentator.json\"\n",
    "} "
   ]
  },
  {
   "cell_type": "code",
   "execution_count": 19,
   "metadata": {},
   "outputs": [
    {
     "name": "stdout",
     "output_type": "stream",
     "text": [
      "Train: 928, Val: 52, Test: 248 for vista split\n",
      "Train: 911, Val: 51, Test: 240 for sat split\n"
     ]
    },
    {
     "ename": "",
     "evalue": "",
     "output_type": "error",
     "traceback": [
      "\u001b[1;31mThe Kernel crashed while executing code in the current cell or a previous cell. \n",
      "\u001b[1;31mPlease review the code in the cell(s) to identify a possible cause of the failure. \n",
      "\u001b[1;31mClick <a href='https://aka.ms/vscodeJupyterKernelCrash'>here</a> for more info. \n",
      "\u001b[1;31mView Jupyter <a href='command:jupyter.viewOutput'>log</a> for further details."
     ]
    }
   ],
   "source": [
    "for k,v in splits.items():\n",
    "    split = json.loads(requests.get(v).text)\n",
    "\n",
    "    if k == \"vista\":\n",
    "        train = split['training']\n",
    "        test = split['testing']\n",
    "        train = [dict[\"image\"].split(\"/\")[0] for dict in train]\n",
    "        test = [dict[\"image\"].split(\"/\")[0] for dict in test]\n",
    "        version = \"v2\"\n",
    "\n",
    "    elif k == \"sat\":\n",
    "        train = split['train']\n",
    "        test = split['test']\n",
    "        version = \"v1\"\n",
    "\n",
    "    # Path to meta.csv file\n",
    "    df = pd.read_csv(f\"/mnt/data1/TotalSegmentator/{version}/processed/meta.csv\")\n",
    "\n",
    "    val_ratio = sum(df[\"split\"] == \"val\")/sum(df[\"split\"] == \"train\")\n",
    "    train, val = train_test_split(train, test_size=val_ratio, random_state=42)\n",
    "\n",
    "    df.loc[df[\"image_id\"].isin(test), f\"{k}_split\"] = \"test\"\n",
    "    df.loc[df[\"image_id\"].isin(train), f\"{k}_split\"] = \"train\"\n",
    "    df.loc[df[\"image_id\"].isin(val), f\"{k}_split\"] = \"val\"\n",
    "\n",
    "    print(f\"Train: {len(train)}, Val: {len(val)}, Test: {len(test)} for {k} split\")\n",
    "\n",
    "    df.to_csv(f\"/mnt/data1/TotalSegmentator/{version}/processed/meta.csv\", index=False)\n"
   ]
  }
 ],
 "metadata": {
  "kernelspec": {
   "display_name": "lighter_dev",
   "language": "python",
   "name": "python3"
  },
  "language_info": {
   "codemirror_mode": {
    "name": "ipython",
    "version": 3
   },
   "file_extension": ".py",
   "mimetype": "text/x-python",
   "name": "python",
   "nbconvert_exporter": "python",
   "pygments_lexer": "ipython3",
   "version": "3.10.14"
  }
 },
 "nbformat": 4,
 "nbformat_minor": 2
}
